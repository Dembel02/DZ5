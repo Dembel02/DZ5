{
  "nbformat": 4,
  "nbformat_minor": 0,
  "metadata": {
    "colab": {
      "provenance": [],
      "toc_visible": true
    },
    "kernelspec": {
      "name": "python3",
      "display_name": "Python 3"
    },
    "language_info": {
      "name": "python"
    }
  },
  "cells": [
    {
      "cell_type": "markdown",
      "source": [
        "# Домашнее задание №4\n",
        "\n",
        "##NumPy"
      ],
      "metadata": {
        "id": "YcuD6R0f84Ms"
      }
    },
    {
      "cell_type": "markdown",
      "source": [
        "##Формулировка задания:\n",
        "Научиться работать с фреймворком NumPy"
      ],
      "metadata": {
        "id": "M7h5CjH1cCkh"
      }
    },
    {
      "cell_type": "markdown",
      "source": [
        "##План работы:"
      ],
      "metadata": {
        "id": "eJALrZ1-cOhW"
      }
    },
    {
      "cell_type": "markdown",
      "source": [
        "1.   Создать ноутбук в Google Colab\n",
        "2.   Решить предложенные математические задачи с помощью NumPy (1 и 2 задачи\n",
        "обязательны к выполнению, остальные желательны)\n",
        "3.   Открыть доступ для чтения ноутбука по ссылке\n",
        "4.   Прикрепить ссылку на ноутбук в качестве ответа на  \n",
        "     домашнее задание на\n",
        "     платформе learn.innopolis.university"
      ],
      "metadata": {
        "id": "9CNYljDMcZfv"
      }
    },
    {
      "cell_type": "markdown",
      "source": [
        "##Перечень инструментов, необходимых для реализации\n",
        "деятельности:\n",
        "\n",
        "Google Colab https://colab.research.google.com/"
      ],
      "metadata": {
        "id": "XLibQRI3c961"
      }
    },
    {
      "cell_type": "markdown",
      "source": [
        "##Задача 1\n",
        "\n",
        "1. Выполнить операции над матрицами:"
      ],
      "metadata": {
        "id": "0DuLcotJdNrU"
      }
    },
    {
      "cell_type": "markdown",
      "source": [
        "![task_1.png](data:image/png;base64,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)"
      ],
      "metadata": {
        "id": "enJWjIhEmMmH"
      }
    },
    {
      "cell_type": "markdown",
      "source": [
        "##Решение задачи №1"
      ],
      "metadata": {
        "id": "7hBagSwbnFdE"
      }
    },
    {
      "cell_type": "code",
      "execution_count": null,
      "metadata": {
        "id": "qwyEM5bHGr2Q"
      },
      "outputs": [],
      "source": [
        "import numpy as np   # импортируем библиотеку NumPy\n",
        "\n",
        "# Создаем матрицы А, В, и С\n",
        "\n",
        "A = np.array(([1, 2, 1],\n",
        "              [-2, 1, 1]))\n",
        "B = np.array(([3, 1],\n",
        "              [-1, 0],\n",
        "              [2, 4]))\n",
        "C = np.array(([-2, 2],\n",
        "              [1, -1],\n",
        "              [1, 2]))\n",
        "\n",
        "def matrix_plus (matrix_1, matrix_2):\n",
        "  if matrix_1.shape == matrix_2.shape:\n",
        "    matrix_3 = 2 * matrix_2\n",
        "    result = matrix_1 + matrix_3\n",
        "  else:\n",
        "    matrix_3 = 2 * matrix_2\n",
        "    result = matrix_1 + np.transpose(matrix_3)\n",
        "  return(result)"
      ]
    },
    {
      "cell_type": "code",
      "source": [
        "matrix_plus(A, B)"
      ],
      "metadata": {
        "colab": {
          "base_uri": "https://localhost:8080/"
        },
        "id": "bvZHFdmIqiO-",
        "outputId": "e6aaacd1-a2a1-4c41-9a4c-cae161514f06"
      },
      "execution_count": null,
      "outputs": [
        {
          "output_type": "execute_result",
          "data": {
            "text/plain": [
              "array([[7, 0, 5],\n",
              "       [0, 1, 9]])"
            ]
          },
          "metadata": {},
          "execution_count": 19
        }
      ]
    },
    {
      "cell_type": "code",
      "source": [
        "matrix_plus(B, C)"
      ],
      "metadata": {
        "colab": {
          "base_uri": "https://localhost:8080/"
        },
        "id": "sL5ZYKBBqy3x",
        "outputId": "9ca8c786-0427-439f-e116-b5cebdf21a35"
      },
      "execution_count": null,
      "outputs": [
        {
          "output_type": "execute_result",
          "data": {
            "text/plain": [
              "array([[-1,  5],\n",
              "       [ 1, -2],\n",
              "       [ 4,  8]])"
            ]
          },
          "metadata": {},
          "execution_count": 20
        }
      ]
    },
    {
      "cell_type": "markdown",
      "source": [
        "##Задача 2\n",
        "1. Создать матрицу размером 8х8 элементов, состоящую из нулей. Заполнить эту матрицу значениями, расположенными в шахматном порядке.\n",
        "\n",
        "Задачу решить через срезы массива NumPy (должно получиться буквально двумя\n",
        "командами)."
      ],
      "metadata": {
        "id": "37cfiLkytl1Y"
      }
    },
    {
      "cell_type": "markdown",
      "source": [
        "![task_2.png](data:image/png;base64,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)"
      ],
      "metadata": {
        "id": "aGon6usB1Jks"
      }
    },
    {
      "cell_type": "markdown",
      "source": [
        "##решение задачи №2"
      ],
      "metadata": {
        "id": "6lFpAXJpsm-G"
      }
    },
    {
      "cell_type": "code",
      "source": [
        "matrix_4 = np.zeros(8*8, dtype=int)\n",
        "matrix_4[: : 2] = 1\n",
        "matrix_4.reshape(8, 8)"
      ],
      "metadata": {
        "colab": {
          "base_uri": "https://localhost:8080/"
        },
        "id": "9n2UGv4yPIGd",
        "outputId": "ec5275da-659f-4b38-aecd-bb0fe5913b4f"
      },
      "execution_count": 57,
      "outputs": [
        {
          "output_type": "execute_result",
          "data": {
            "text/plain": [
              "array([[1, 0, 1, 0, 1, 0, 1, 0],\n",
              "       [1, 0, 1, 0, 1, 0, 1, 0],\n",
              "       [1, 0, 1, 0, 1, 0, 1, 0],\n",
              "       [1, 0, 1, 0, 1, 0, 1, 0],\n",
              "       [1, 0, 1, 0, 1, 0, 1, 0],\n",
              "       [1, 0, 1, 0, 1, 0, 1, 0],\n",
              "       [1, 0, 1, 0, 1, 0, 1, 0],\n",
              "       [1, 0, 1, 0, 1, 0, 1, 0]])"
            ]
          },
          "metadata": {},
          "execution_count": 57
        }
      ]
    },
    {
      "cell_type": "markdown",
      "source": [
        "##Задача 3*\n",
        "\n",
        "1. Сформировать два вектора: первый длиной 15 элементов со значениями от 0 до 1,4 с\n",
        "шагом 0,1; второй – длиной 6 элементов со значениями от 1 до 6."
      ],
      "metadata": {
        "id": "tlbADjb_dGda"
      }
    },
    {
      "cell_type": "code",
      "source": [
        "matrix_a = np.arange(0, 1.5, 0.1)\n",
        "matrix_b = np.arange(1, 7)"
      ],
      "metadata": {
        "id": "Zr5LpzY_dvkl"
      },
      "execution_count": 68,
      "outputs": []
    },
    {
      "cell_type": "code",
      "source": [
        "matrix_a"
      ],
      "metadata": {
        "colab": {
          "base_uri": "https://localhost:8080/"
        },
        "id": "hILijgcJhC1u",
        "outputId": "4d3e739a-74bb-44ed-832c-625246fa933a"
      },
      "execution_count": 69,
      "outputs": [
        {
          "output_type": "execute_result",
          "data": {
            "text/plain": [
              "array([0. , 0.1, 0.2, 0.3, 0.4, 0.5, 0.6, 0.7, 0.8, 0.9, 1. , 1.1, 1.2,\n",
              "       1.3, 1.4])"
            ]
          },
          "metadata": {},
          "execution_count": 69
        }
      ]
    },
    {
      "cell_type": "code",
      "source": [
        "matrix_b"
      ],
      "metadata": {
        "colab": {
          "base_uri": "https://localhost:8080/"
        },
        "id": "5BbeeRk7hQ9N",
        "outputId": "df6fbdd3-4073-450c-c031-a27c13f500a0"
      },
      "execution_count": 70,
      "outputs": [
        {
          "output_type": "execute_result",
          "data": {
            "text/plain": [
              "array([1, 2, 3, 4, 5, 6])"
            ]
          },
          "metadata": {},
          "execution_count": 70
        }
      ]
    },
    {
      "cell_type": "markdown",
      "source": [
        "2. Преобразовать первый вектор в матрицу 5х3, а второй – в матрицу 3х2. Выполнить\n",
        "перемножение этих матриц. Сами матрицы и результат их перемножения вывести на экран."
      ],
      "metadata": {
        "id": "oSxeeunLeE1L"
      }
    },
    {
      "cell_type": "code",
      "source": [
        "matrix_a = matrix_a.reshape(5, 3)\n",
        "matrix_b = matrix_b.reshape(3, 2)"
      ],
      "metadata": {
        "id": "-Zw_O43MgRLH"
      },
      "execution_count": 76,
      "outputs": []
    },
    {
      "cell_type": "code",
      "source": [
        "print(matrix_a)"
      ],
      "metadata": {
        "colab": {
          "base_uri": "https://localhost:8080/"
        },
        "id": "Wf2goFNwjoun",
        "outputId": "0d73f227-0f04-450e-d0ce-f20739958cbc"
      },
      "execution_count": 78,
      "outputs": [
        {
          "output_type": "stream",
          "name": "stdout",
          "text": [
            "[[0.  0.1 0.2]\n",
            " [0.3 0.4 0.5]\n",
            " [0.6 0.7 0.8]\n",
            " [0.9 1.  1.1]\n",
            " [1.2 1.3 1.4]]\n"
          ]
        }
      ]
    },
    {
      "cell_type": "code",
      "source": [
        "print(matrix_b)"
      ],
      "metadata": {
        "colab": {
          "base_uri": "https://localhost:8080/"
        },
        "id": "5axcdfxLjuqF",
        "outputId": "e11dc467-c629-4c08-e52c-bc57225cebdb"
      },
      "execution_count": 79,
      "outputs": [
        {
          "output_type": "stream",
          "name": "stdout",
          "text": [
            "[[1 2]\n",
            " [3 4]\n",
            " [5 6]]\n"
          ]
        }
      ]
    },
    {
      "cell_type": "code",
      "source": [
        "np.dot(matrix_a, matrix_b)"
      ],
      "metadata": {
        "colab": {
          "base_uri": "https://localhost:8080/"
        },
        "id": "wzRfG25Hh7av",
        "outputId": "83149fad-9ff7-4929-b715-ff0717c5f57f"
      },
      "execution_count": 77,
      "outputs": [
        {
          "output_type": "execute_result",
          "data": {
            "text/plain": [
              "array([[ 1.3,  1.6],\n",
              "       [ 4. ,  5.2],\n",
              "       [ 6.7,  8.8],\n",
              "       [ 9.4, 12.4],\n",
              "       [12.1, 16. ]])"
            ]
          },
          "metadata": {},
          "execution_count": 77
        }
      ]
    },
    {
      "cell_type": "markdown",
      "source": [
        "##Задача 4*"
      ],
      "metadata": {
        "id": "SqIZLQBzj153"
      }
    },
    {
      "cell_type": "markdown",
      "source": [
        "1. Сформировать вектор из целых чисел (тип элементов должен быть int32) размерностью\n",
        "36 и значениями 1, 3, 5, 7, … и так далее."
      ],
      "metadata": {
        "id": "2RXRPKcrmf2M"
      }
    },
    {
      "cell_type": "code",
      "source": [
        "C = np.arange(1, 36*2, 2, dtype=np.int32)\n",
        "C"
      ],
      "metadata": {
        "colab": {
          "base_uri": "https://localhost:8080/"
        },
        "id": "l4XBgRxtmjH3",
        "outputId": "a305704f-5f9d-40fb-9b3a-0132ed4f6624"
      },
      "execution_count": 83,
      "outputs": [
        {
          "output_type": "execute_result",
          "data": {
            "text/plain": [
              "array([ 1,  3,  5,  7,  9, 11, 13, 15, 17, 19, 21, 23, 25, 27, 29, 31, 33,\n",
              "       35, 37, 39, 41, 43, 45, 47, 49, 51, 53, 55, 57, 59, 61, 63, 65, 67,\n",
              "       69, 71], dtype=int32)"
            ]
          },
          "metadata": {},
          "execution_count": 83
        }
      ]
    },
    {
      "cell_type": "markdown",
      "source": [
        "2. Выделить из этого вектора все элементы со значениями кратными 3. Вывести результат\n",
        "на экран (исходный вектор и с кратными числами)."
      ],
      "metadata": {
        "id": "CcwveE-Fn2HM"
      }
    },
    {
      "cell_type": "code",
      "source": [
        "D = C[C%3 == 0]\n",
        "print('исходный массив :\\n', C)\n",
        "print('массив со значениями кратным 3:\\n',D)"
      ],
      "metadata": {
        "colab": {
          "base_uri": "https://localhost:8080/"
        },
        "id": "AQv9_UO_n_T8",
        "outputId": "3b6c58bd-7816-47cd-e244-bebf52b68045"
      },
      "execution_count": 97,
      "outputs": [
        {
          "output_type": "stream",
          "name": "stdout",
          "text": [
            "исходный массив :\n",
            " [ 1  3  5  7  9 11 13 15 17 19 21 23 25 27 29 31 33 35 37 39 41 43 45 47\n",
            " 49 51 53 55 57 59 61 63 65 67 69 71]\n",
            "массив со значениями кратным 3:\n",
            " [ 3  9 15 21 27 33 39 45 51 57 63 69]\n"
          ]
        }
      ]
    }
  ]
}